{
 "cells": [
  {
   "cell_type": "code",
   "execution_count": 40,
   "id": "c9db8bdf",
   "metadata": {},
   "outputs": [],
   "source": [
    "import requests\n",
    "import pandas as pd\n",
    "import matplotlib.pyplot as plt\n",
    "import seaborn as sns"
   ]
  },
  {
   "cell_type": "code",
   "execution_count": 22,
   "id": "05e66f0d",
   "metadata": {},
   "outputs": [],
   "source": [
    "# Fetch the data\n",
    "response = requests.get(\"https://data.calgary.ca/resource/c2es-76ed.json\")  # API endpoint\n",
    "data = response.json()"
   ]
  },
  {
   "cell_type": "code",
   "execution_count": 23,
   "id": "53c53453",
   "metadata": {},
   "outputs": [],
   "source": [
    "# Convert the data to a panda DataFrame\n",
    "df = pd.DataFrame(data)"
   ]
  },
  {
   "cell_type": "code",
   "execution_count": 24,
   "id": "caf4af19",
   "metadata": {},
   "outputs": [
    {
     "data": {
      "text/html": [
       "<div>\n",
       "<style scoped>\n",
       "    .dataframe tbody tr th:only-of-type {\n",
       "        vertical-align: middle;\n",
       "    }\n",
       "\n",
       "    .dataframe tbody tr th {\n",
       "        vertical-align: top;\n",
       "    }\n",
       "\n",
       "    .dataframe thead th {\n",
       "        text-align: right;\n",
       "    }\n",
       "</style>\n",
       "<table border=\"1\" class=\"dataframe\">\n",
       "  <thead>\n",
       "    <tr style=\"text-align: right;\">\n",
       "      <th></th>\n",
       "      <th>permitnum</th>\n",
       "      <th>statuscurrent</th>\n",
       "      <th>applieddate</th>\n",
       "      <th>issueddate</th>\n",
       "      <th>completeddate</th>\n",
       "      <th>permittype</th>\n",
       "      <th>permittypemapped</th>\n",
       "      <th>permitclass</th>\n",
       "      <th>permitclassgroup</th>\n",
       "      <th>permitclassmapped</th>\n",
       "      <th>...</th>\n",
       "      <th>point</th>\n",
       "      <th>:@computed_region_4b54_tmc4</th>\n",
       "      <th>:@computed_region_4a3i_ccfj</th>\n",
       "      <th>:@computed_region_kxmf_bzkv</th>\n",
       "      <th>:@computed_region_p8tp_5dkv</th>\n",
       "      <th>:@computed_region_qeuu_piif</th>\n",
       "      <th>:@computed_region_xxr9_iwz2</th>\n",
       "      <th>contractorname</th>\n",
       "      <th>applicantname</th>\n",
       "      <th>totalsqft</th>\n",
       "    </tr>\n",
       "  </thead>\n",
       "  <tbody>\n",
       "    <tr>\n",
       "      <th>0</th>\n",
       "      <td>BP2004-10862</td>\n",
       "      <td>Completed</td>\n",
       "      <td>2004-08-13T00:00:00.000</td>\n",
       "      <td>2004-08-13T00:00:00.000</td>\n",
       "      <td>2004-11-05T00:00:00.000</td>\n",
       "      <td>Residential Improvement Project</td>\n",
       "      <td>Building</td>\n",
       "      <td>1301 - Private Detached Garage</td>\n",
       "      <td>Garage</td>\n",
       "      <td>Residential</td>\n",
       "      <td>...</td>\n",
       "      <td>{'type': 'Point', 'coordinates': [-114.0683806...</td>\n",
       "      <td>2</td>\n",
       "      <td>2</td>\n",
       "      <td>192</td>\n",
       "      <td>4</td>\n",
       "      <td>10</td>\n",
       "      <td>4</td>\n",
       "      <td>NaN</td>\n",
       "      <td>NaN</td>\n",
       "      <td>NaN</td>\n",
       "    </tr>\n",
       "    <tr>\n",
       "      <th>1</th>\n",
       "      <td>BP2002-06744</td>\n",
       "      <td>Completed</td>\n",
       "      <td>2002-05-24T00:00:00.000</td>\n",
       "      <td>2002-06-05T00:00:00.000</td>\n",
       "      <td>2002-09-05T00:00:00.000</td>\n",
       "      <td>Demolition</td>\n",
       "      <td>Demolition</td>\n",
       "      <td>1106 - House</td>\n",
       "      <td>Single Family</td>\n",
       "      <td>Residential</td>\n",
       "      <td>...</td>\n",
       "      <td>{'type': 'Point', 'coordinates': [-114.0988593...</td>\n",
       "      <td>8</td>\n",
       "      <td>1</td>\n",
       "      <td>200</td>\n",
       "      <td>2</td>\n",
       "      <td>303</td>\n",
       "      <td>8</td>\n",
       "      <td>YORK SHAW BUILDING MOVERS</td>\n",
       "      <td>NaN</td>\n",
       "      <td>NaN</td>\n",
       "    </tr>\n",
       "    <tr>\n",
       "      <th>2</th>\n",
       "      <td>BP2000-10380</td>\n",
       "      <td>Completed</td>\n",
       "      <td>2000-09-25T00:00:00.000</td>\n",
       "      <td>2000-09-25T00:00:00.000</td>\n",
       "      <td>2000-10-23T00:00:00.000</td>\n",
       "      <td>Residential Improvement Project</td>\n",
       "      <td>Building</td>\n",
       "      <td>1301 - Private Detached Garage</td>\n",
       "      <td>Garage</td>\n",
       "      <td>Residential</td>\n",
       "      <td>...</td>\n",
       "      <td>{'type': 'Point', 'coordinates': [-114.0713430...</td>\n",
       "      <td>7</td>\n",
       "      <td>2</td>\n",
       "      <td>266</td>\n",
       "      <td>7</td>\n",
       "      <td>189</td>\n",
       "      <td>7</td>\n",
       "      <td>NaN</td>\n",
       "      <td>NaN</td>\n",
       "      <td>NaN</td>\n",
       "    </tr>\n",
       "    <tr>\n",
       "      <th>3</th>\n",
       "      <td>BP1999-08633</td>\n",
       "      <td>Completed</td>\n",
       "      <td>1999-07-21T00:00:00.000</td>\n",
       "      <td>1999-07-21T00:00:00.000</td>\n",
       "      <td>1999-10-15T00:00:00.000</td>\n",
       "      <td>Residential Improvement Project</td>\n",
       "      <td>Building</td>\n",
       "      <td>1301 - Private Detached Garage</td>\n",
       "      <td>Garage</td>\n",
       "      <td>Residential</td>\n",
       "      <td>...</td>\n",
       "      <td>{'type': 'Point', 'coordinates': [-114.0783404...</td>\n",
       "      <td>7</td>\n",
       "      <td>2</td>\n",
       "      <td>219</td>\n",
       "      <td>7</td>\n",
       "      <td>34</td>\n",
       "      <td>7</td>\n",
       "      <td>NaN</td>\n",
       "      <td>NaN</td>\n",
       "      <td>NaN</td>\n",
       "    </tr>\n",
       "    <tr>\n",
       "      <th>4</th>\n",
       "      <td>BP2021-05528</td>\n",
       "      <td>Completed</td>\n",
       "      <td>2021-04-07T00:00:00.000</td>\n",
       "      <td>2021-04-08T00:00:00.000</td>\n",
       "      <td>2021-04-16T00:00:00.000</td>\n",
       "      <td>Demolition</td>\n",
       "      <td>Demolition</td>\n",
       "      <td>1106 - House</td>\n",
       "      <td>Single Family</td>\n",
       "      <td>Residential</td>\n",
       "      <td>...</td>\n",
       "      <td>{'type': 'Point', 'coordinates': [-114.1084638...</td>\n",
       "      <td>8</td>\n",
       "      <td>1</td>\n",
       "      <td>200</td>\n",
       "      <td>2</td>\n",
       "      <td>303</td>\n",
       "      <td>8</td>\n",
       "      <td>CNJ DEVELOPMENTS</td>\n",
       "      <td>CNJ DEVELOPMENTS</td>\n",
       "      <td>NaN</td>\n",
       "    </tr>\n",
       "  </tbody>\n",
       "</table>\n",
       "<p>5 rows × 36 columns</p>\n",
       "</div>"
      ],
      "text/plain": [
       "      permitnum statuscurrent              applieddate  \\\n",
       "0  BP2004-10862     Completed  2004-08-13T00:00:00.000   \n",
       "1  BP2002-06744     Completed  2002-05-24T00:00:00.000   \n",
       "2  BP2000-10380     Completed  2000-09-25T00:00:00.000   \n",
       "3  BP1999-08633     Completed  1999-07-21T00:00:00.000   \n",
       "4  BP2021-05528     Completed  2021-04-07T00:00:00.000   \n",
       "\n",
       "                issueddate            completeddate  \\\n",
       "0  2004-08-13T00:00:00.000  2004-11-05T00:00:00.000   \n",
       "1  2002-06-05T00:00:00.000  2002-09-05T00:00:00.000   \n",
       "2  2000-09-25T00:00:00.000  2000-10-23T00:00:00.000   \n",
       "3  1999-07-21T00:00:00.000  1999-10-15T00:00:00.000   \n",
       "4  2021-04-08T00:00:00.000  2021-04-16T00:00:00.000   \n",
       "\n",
       "                        permittype permittypemapped  \\\n",
       "0  Residential Improvement Project         Building   \n",
       "1                       Demolition       Demolition   \n",
       "2  Residential Improvement Project         Building   \n",
       "3  Residential Improvement Project         Building   \n",
       "4                       Demolition       Demolition   \n",
       "\n",
       "                      permitclass permitclassgroup permitclassmapped  ...  \\\n",
       "0  1301 - Private Detached Garage           Garage       Residential  ...   \n",
       "1                    1106 - House    Single Family       Residential  ...   \n",
       "2  1301 - Private Detached Garage           Garage       Residential  ...   \n",
       "3  1301 - Private Detached Garage           Garage       Residential  ...   \n",
       "4                    1106 - House    Single Family       Residential  ...   \n",
       "\n",
       "                                               point  \\\n",
       "0  {'type': 'Point', 'coordinates': [-114.0683806...   \n",
       "1  {'type': 'Point', 'coordinates': [-114.0988593...   \n",
       "2  {'type': 'Point', 'coordinates': [-114.0713430...   \n",
       "3  {'type': 'Point', 'coordinates': [-114.0783404...   \n",
       "4  {'type': 'Point', 'coordinates': [-114.1084638...   \n",
       "\n",
       "  :@computed_region_4b54_tmc4 :@computed_region_4a3i_ccfj  \\\n",
       "0                           2                           2   \n",
       "1                           8                           1   \n",
       "2                           7                           2   \n",
       "3                           7                           2   \n",
       "4                           8                           1   \n",
       "\n",
       "  :@computed_region_kxmf_bzkv :@computed_region_p8tp_5dkv  \\\n",
       "0                         192                           4   \n",
       "1                         200                           2   \n",
       "2                         266                           7   \n",
       "3                         219                           7   \n",
       "4                         200                           2   \n",
       "\n",
       "  :@computed_region_qeuu_piif :@computed_region_xxr9_iwz2  \\\n",
       "0                          10                           4   \n",
       "1                         303                           8   \n",
       "2                         189                           7   \n",
       "3                          34                           7   \n",
       "4                         303                           8   \n",
       "\n",
       "              contractorname     applicantname totalsqft  \n",
       "0                        NaN               NaN       NaN  \n",
       "1  YORK SHAW BUILDING MOVERS               NaN       NaN  \n",
       "2                        NaN               NaN       NaN  \n",
       "3                        NaN               NaN       NaN  \n",
       "4           CNJ DEVELOPMENTS  CNJ DEVELOPMENTS       NaN  \n",
       "\n",
       "[5 rows x 36 columns]"
      ]
     },
     "execution_count": 24,
     "metadata": {},
     "output_type": "execute_result"
    }
   ],
   "source": [
    "# Display the first few rows of the DataFrame\n",
    "df.head()"
   ]
  },
  {
   "cell_type": "code",
   "execution_count": 25,
   "id": "0c41d5be",
   "metadata": {},
   "outputs": [
    {
     "name": "stdout",
     "output_type": "stream",
     "text": [
      "<class 'pandas.core.frame.DataFrame'>\n",
      "RangeIndex: 1000 entries, 0 to 999\n",
      "Data columns (total 36 columns):\n",
      " #   Column                       Non-Null Count  Dtype \n",
      "---  ------                       --------------  ----- \n",
      " 0   permitnum                    1000 non-null   object\n",
      " 1   statuscurrent                1000 non-null   object\n",
      " 2   applieddate                  1000 non-null   object\n",
      " 3   issueddate                   806 non-null    object\n",
      " 4   completeddate                954 non-null    object\n",
      " 5   permittype                   1000 non-null   object\n",
      " 6   permittypemapped             1000 non-null   object\n",
      " 7   permitclass                  1000 non-null   object\n",
      " 8   permitclassgroup             1000 non-null   object\n",
      " 9   permitclassmapped            1000 non-null   object\n",
      " 10  workclass                    1000 non-null   object\n",
      " 11  workclassgroup               1000 non-null   object\n",
      " 12  workclassmapped              947 non-null    object\n",
      " 13  description                  674 non-null    object\n",
      " 14  housingunits                 1000 non-null   object\n",
      " 15  estprojectcost               657 non-null    object\n",
      " 16  originaladdress              858 non-null    object\n",
      " 17  communitycode                1000 non-null   object\n",
      " 18  communityname                1000 non-null   object\n",
      " 19  latitude                     999 non-null    object\n",
      " 20  longitude                    999 non-null    object\n",
      " 21  locationcount                857 non-null    object\n",
      " 22  locationtypes                857 non-null    object\n",
      " 23  locationaddresses            857 non-null    object\n",
      " 24  locationswkt                 857 non-null    object\n",
      " 25  locationsgeojson             857 non-null    object\n",
      " 26  point                        999 non-null    object\n",
      " 27  :@computed_region_4b54_tmc4  857 non-null    object\n",
      " 28  :@computed_region_4a3i_ccfj  857 non-null    object\n",
      " 29  :@computed_region_kxmf_bzkv  857 non-null    object\n",
      " 30  :@computed_region_p8tp_5dkv  857 non-null    object\n",
      " 31  :@computed_region_qeuu_piif  857 non-null    object\n",
      " 32  :@computed_region_xxr9_iwz2  857 non-null    object\n",
      " 33  contractorname               327 non-null    object\n",
      " 34  applicantname                529 non-null    object\n",
      " 35  totalsqft                    65 non-null     object\n",
      "dtypes: object(36)\n",
      "memory usage: 281.4+ KB\n"
     ]
    }
   ],
   "source": [
    "# Get concise summary of the DataFrame\n",
    "df.info()"
   ]
  },
  {
   "cell_type": "code",
   "execution_count": 26,
   "id": "7a2a2701",
   "metadata": {},
   "outputs": [
    {
     "data": {
      "text/html": [
       "<div>\n",
       "<style scoped>\n",
       "    .dataframe tbody tr th:only-of-type {\n",
       "        vertical-align: middle;\n",
       "    }\n",
       "\n",
       "    .dataframe tbody tr th {\n",
       "        vertical-align: top;\n",
       "    }\n",
       "\n",
       "    .dataframe thead th {\n",
       "        text-align: right;\n",
       "    }\n",
       "</style>\n",
       "<table border=\"1\" class=\"dataframe\">\n",
       "  <thead>\n",
       "    <tr style=\"text-align: right;\">\n",
       "      <th></th>\n",
       "      <th>permitnum</th>\n",
       "      <th>statuscurrent</th>\n",
       "      <th>applieddate</th>\n",
       "      <th>issueddate</th>\n",
       "      <th>completeddate</th>\n",
       "      <th>permittype</th>\n",
       "      <th>permittypemapped</th>\n",
       "      <th>permitclass</th>\n",
       "      <th>permitclassgroup</th>\n",
       "      <th>permitclassmapped</th>\n",
       "      <th>...</th>\n",
       "      <th>point</th>\n",
       "      <th>:@computed_region_4b54_tmc4</th>\n",
       "      <th>:@computed_region_4a3i_ccfj</th>\n",
       "      <th>:@computed_region_kxmf_bzkv</th>\n",
       "      <th>:@computed_region_p8tp_5dkv</th>\n",
       "      <th>:@computed_region_qeuu_piif</th>\n",
       "      <th>:@computed_region_xxr9_iwz2</th>\n",
       "      <th>contractorname</th>\n",
       "      <th>applicantname</th>\n",
       "      <th>totalsqft</th>\n",
       "    </tr>\n",
       "  </thead>\n",
       "  <tbody>\n",
       "    <tr>\n",
       "      <th>count</th>\n",
       "      <td>1000</td>\n",
       "      <td>1000</td>\n",
       "      <td>1000</td>\n",
       "      <td>806</td>\n",
       "      <td>954</td>\n",
       "      <td>1000</td>\n",
       "      <td>1000</td>\n",
       "      <td>1000</td>\n",
       "      <td>1000</td>\n",
       "      <td>1000</td>\n",
       "      <td>...</td>\n",
       "      <td>999</td>\n",
       "      <td>857</td>\n",
       "      <td>857</td>\n",
       "      <td>857</td>\n",
       "      <td>857</td>\n",
       "      <td>857</td>\n",
       "      <td>857</td>\n",
       "      <td>327</td>\n",
       "      <td>529</td>\n",
       "      <td>65</td>\n",
       "    </tr>\n",
       "    <tr>\n",
       "      <th>unique</th>\n",
       "      <td>1000</td>\n",
       "      <td>13</td>\n",
       "      <td>902</td>\n",
       "      <td>748</td>\n",
       "      <td>856</td>\n",
       "      <td>4</td>\n",
       "      <td>2</td>\n",
       "      <td>108</td>\n",
       "      <td>14</td>\n",
       "      <td>3</td>\n",
       "      <td>...</td>\n",
       "      <td>817</td>\n",
       "      <td>14</td>\n",
       "      <td>4</td>\n",
       "      <td>203</td>\n",
       "      <td>14</td>\n",
       "      <td>201</td>\n",
       "      <td>14</td>\n",
       "      <td>216</td>\n",
       "      <td>412</td>\n",
       "      <td>16</td>\n",
       "    </tr>\n",
       "    <tr>\n",
       "      <th>top</th>\n",
       "      <td>BP2004-10862</td>\n",
       "      <td>Completed</td>\n",
       "      <td>2023-09-14T00:00:00.000</td>\n",
       "      <td>2003-06-06T00:00:00.000</td>\n",
       "      <td>2000-04-24T00:00:00.000</td>\n",
       "      <td>Commercial / Multi Family Project</td>\n",
       "      <td>Building</td>\n",
       "      <td>1301 - Private Detached Garage</td>\n",
       "      <td>Commercial</td>\n",
       "      <td>Residential</td>\n",
       "      <td>...</td>\n",
       "      <td>{'type': 'Point', 'coordinates': [0, 0]}</td>\n",
       "      <td>7</td>\n",
       "      <td>1</td>\n",
       "      <td>262</td>\n",
       "      <td>7</td>\n",
       "      <td>130</td>\n",
       "      <td>7</td>\n",
       "      <td>MCCANN'S BUILDING MOVERS</td>\n",
       "      <td>COUGAR CONTRACTORS</td>\n",
       "      <td>0</td>\n",
       "    </tr>\n",
       "    <tr>\n",
       "      <th>freq</th>\n",
       "      <td>1</td>\n",
       "      <td>748</td>\n",
       "      <td>4</td>\n",
       "      <td>3</td>\n",
       "      <td>4</td>\n",
       "      <td>454</td>\n",
       "      <td>818</td>\n",
       "      <td>184</td>\n",
       "      <td>280</td>\n",
       "      <td>585</td>\n",
       "      <td>...</td>\n",
       "      <td>142</td>\n",
       "      <td>164</td>\n",
       "      <td>320</td>\n",
       "      <td>72</td>\n",
       "      <td>176</td>\n",
       "      <td>72</td>\n",
       "      <td>202</td>\n",
       "      <td>7</td>\n",
       "      <td>8</td>\n",
       "      <td>49</td>\n",
       "    </tr>\n",
       "  </tbody>\n",
       "</table>\n",
       "<p>4 rows × 36 columns</p>\n",
       "</div>"
      ],
      "text/plain": [
       "           permitnum statuscurrent              applieddate  \\\n",
       "count           1000          1000                     1000   \n",
       "unique          1000            13                      902   \n",
       "top     BP2004-10862     Completed  2023-09-14T00:00:00.000   \n",
       "freq               1           748                        4   \n",
       "\n",
       "                     issueddate            completeddate  \\\n",
       "count                       806                      954   \n",
       "unique                      748                      856   \n",
       "top     2003-06-06T00:00:00.000  2000-04-24T00:00:00.000   \n",
       "freq                          3                        4   \n",
       "\n",
       "                               permittype permittypemapped  \\\n",
       "count                                1000             1000   \n",
       "unique                                  4                2   \n",
       "top     Commercial / Multi Family Project         Building   \n",
       "freq                                  454              818   \n",
       "\n",
       "                           permitclass permitclassgroup permitclassmapped  \\\n",
       "count                             1000             1000              1000   \n",
       "unique                             108               14                 3   \n",
       "top     1301 - Private Detached Garage       Commercial       Residential   \n",
       "freq                               184              280               585   \n",
       "\n",
       "        ...                                     point  \\\n",
       "count   ...                                       999   \n",
       "unique  ...                                       817   \n",
       "top     ...  {'type': 'Point', 'coordinates': [0, 0]}   \n",
       "freq    ...                                       142   \n",
       "\n",
       "       :@computed_region_4b54_tmc4 :@computed_region_4a3i_ccfj  \\\n",
       "count                          857                         857   \n",
       "unique                          14                           4   \n",
       "top                              7                           1   \n",
       "freq                           164                         320   \n",
       "\n",
       "       :@computed_region_kxmf_bzkv :@computed_region_p8tp_5dkv  \\\n",
       "count                          857                         857   \n",
       "unique                         203                          14   \n",
       "top                            262                           7   \n",
       "freq                            72                         176   \n",
       "\n",
       "       :@computed_region_qeuu_piif :@computed_region_xxr9_iwz2  \\\n",
       "count                          857                         857   \n",
       "unique                         201                          14   \n",
       "top                            130                           7   \n",
       "freq                            72                         202   \n",
       "\n",
       "                  contractorname       applicantname totalsqft  \n",
       "count                        327                 529        65  \n",
       "unique                       216                 412        16  \n",
       "top     MCCANN'S BUILDING MOVERS  COUGAR CONTRACTORS         0  \n",
       "freq                           7                   8        49  \n",
       "\n",
       "[4 rows x 36 columns]"
      ]
     },
     "execution_count": 26,
     "metadata": {},
     "output_type": "execute_result"
    }
   ],
   "source": [
    "# Get descriptive statistics for numerical columns\n",
    "df.describe()"
   ]
  },
  {
   "cell_type": "code",
   "execution_count": 27,
   "id": "96866d8d",
   "metadata": {},
   "outputs": [
    {
     "data": {
      "text/plain": [
       "permitnum                        0\n",
       "statuscurrent                    0\n",
       "applieddate                      0\n",
       "issueddate                     194\n",
       "completeddate                   46\n",
       "permittype                       0\n",
       "permittypemapped                 0\n",
       "permitclass                      0\n",
       "permitclassgroup                 0\n",
       "permitclassmapped                0\n",
       "workclass                        0\n",
       "workclassgroup                   0\n",
       "workclassmapped                 53\n",
       "description                    326\n",
       "housingunits                     0\n",
       "estprojectcost                 343\n",
       "originaladdress                142\n",
       "communitycode                    0\n",
       "communityname                    0\n",
       "latitude                         1\n",
       "longitude                        1\n",
       "locationcount                  143\n",
       "locationtypes                  143\n",
       "locationaddresses              143\n",
       "locationswkt                   143\n",
       "locationsgeojson               143\n",
       "point                            1\n",
       ":@computed_region_4b54_tmc4    143\n",
       ":@computed_region_4a3i_ccfj    143\n",
       ":@computed_region_kxmf_bzkv    143\n",
       ":@computed_region_p8tp_5dkv    143\n",
       ":@computed_region_qeuu_piif    143\n",
       ":@computed_region_xxr9_iwz2    143\n",
       "contractorname                 673\n",
       "applicantname                  471\n",
       "totalsqft                      935\n",
       "dtype: int64"
      ]
     },
     "execution_count": 27,
     "metadata": {},
     "output_type": "execute_result"
    }
   ],
   "source": [
    "# Check for missing values\n",
    "df.isnull().sum()"
   ]
  },
  {
   "cell_type": "markdown",
   "id": "344cee7a",
   "metadata": {},
   "source": [
    "**Handling missing values**\n",
    "\n",
    "- Drop columns like completeddate if they are not crucial to analysis and have a high proportion of missing values.\n",
    "- For description or housingunits, if they are important, investigate why data might be missing and consider imputing values or flagging them.\n",
    "- For columns with a single missing value, such as latitude and longitude, if possible, look up these values.\n",
    "- For contractorname and applicantname with a significant number of missing values, consider whether these fields are essential for analysis or if they can be excluded.\n",
    "\n",
    "Use pandas to handle missing values...\n",
    "Each strategy has trade-offs, and the choice depends on specific use case and the importance of maintaining the integrity of the dataset for analysis. Always document the choices made regarding handling missing values for transparency and reproducibility"
   ]
  },
  {
   "cell_type": "code",
   "execution_count": 28,
   "id": "998dcb5a",
   "metadata": {},
   "outputs": [],
   "source": [
    "# Drop columns with a high percentage of missing values\n",
    "df.drop(['completeddate'], axis=1, inplace=True)\n",
    "\n",
    "# Convert 'estprojectcost' to numeric, coercing errors to NaN (not a number)\n",
    "# The errors='coerce' parameter will replace all non-numeric values in the column with NaN\n",
    "# which mean() can handle by default, ignoring NaN values\n",
    "df['estprojectcost'] = pd.to_numeric(df['estprojectcost'], errors='coerce')\n",
    "# Impute numerical missing values with the median\n",
    "df['estprojectcost'].fillna(df['estprojectcost'].median(), inplace=True)\n",
    "\n",
    "# Impute categorical missing values with the mode\n",
    "df['description'].fillna(df['description'].mode()[0], inplace=True)\n",
    "\n",
    "# Drop rows where 'latitude' or 'longitude' are missing\n",
    "df.dropna(subset=['latitude', 'longitude'], inplace=True)\n",
    "\n",
    "# Example: Convert a date column from string to datetime object\n",
    "# df['your_date_column'] = pd.to_datetime(df['your_date_column'])\n",
    "\n",
    "# Example: Fill missing values, if appropriate\n",
    "# df['your_column'].fillna('Some Value', inplace=True)\n",
    "\n",
    "# Example: Convert columns to the appropriate data types\n",
    "# df['your_numerical_column'] = pd.to_numeric(df['your_numerical_column'])"
   ]
  },
  {
   "cell_type": "markdown",
   "id": "1fb8dfe2",
   "metadata": {},
   "source": [
    "1. How would you handle missing or incomplete data?\n",
    "\n",
    "Handling missing or incomplete data is context-dependent and requires careful consideration of why the data is missing and how it impacts the analysis. My approach typically starts with a thorough exploratory data analysis to determine the extent and nature of the missing data. Based on the findings, I may employ several strategies:\n",
    "\n",
    "If the missing data is minimal and random, I might choose to ignore those cases or use deletion methods for the affected rows or columns.\n",
    "For numerical data with more significant missing values, I would consider imputation using the mean, median, or a predictive model if I believe the missingness isn't introducing bias.\n",
    "With categorical data, I could impute using the mode or a more sophisticated method like predictive modeling.\n",
    "If the data is missing systematically, it's crucial to delve into the reasons why it might be missing and consider using model-based imputation methods or data augmentation techniques.\n",
    "When appropriate, I also employ flagging to indicate the presence of missing data, which can be particularly insightful for certain models or analyses.\n",
    "\n",
    "2. Can you demonstrate how to merge this dataset with another one?\n",
    "\n",
    "Merging datasets is a common task in data analysis. I would use a common key that is present in both datasets, such as a permit number or another unique identifier. For instance, in Python using pandas, I might use the merge function:\n",
    "\n",
    "merge_df = df1.merge(df2, on = 'common_key', how = 'left')\n",
    "\n",
    "NOTE: assuming 'df1' is our main dataset and 'df2' is the dataset we want to merge it with\n",
    "\n",
    "The how parameter can be adjusted depending on the desired type of join—'left' for including all records from the first dataset, 'inner' for only matching records, and so on. The key is ensuring that the merging key is clean and consistent across both datasets. Additionally, I'd validate the merge by checking for duplicates and ensuring that no data is unexpectedly lost or misrepresented.\n",
    "\n",
    "3. Provide an example of how you might use this data to inform a business decision.\n",
    "\n",
    "This data can provide valuable insights into the construction and development landscape of a city. For a real estate development firm, for instance, analyzing the types of permits issued over time could indicate market trends, such as a shift towards commercial versus residential construction. By examining the estimated project costs and permit statuses, a business can gauge the current economic climate and competition in the market. For example:\n",
    "\n",
    "If there's an uptick in permits for residential units, this might signal a growing market demand, suggesting an opportunity to invest in residential projects.\n",
    "The time from application to issue date could indicate the efficiency of the permit process and potentially highlight the best times to submit applications.\n",
    "By analyzing the location data of issued permits, a company can identify hotspots for development and plan their investments accordingly.\n",
    "The key is to align the dataset analysis with strategic business questions and use the insights to drive evidence-based decisions."
   ]
  },
  {
   "cell_type": "markdown",
   "id": "511d980a",
   "metadata": {
    "slideshow": {
     "slide_type": "fragment"
    }
   },
   "source": [
    "**Data Analysis**\n",
    "\n",
    "Goal is to dive deeper into the dataset to identify patterns, trends, and correlations, and insights that can inform decisions or hypotheses..."
   ]
  },
  {
   "cell_type": "markdown",
   "id": "927322cc",
   "metadata": {},
   "source": [
    "1. Grouping Data and Calculation Means\n",
    "\n",
    "Grouping the data by category allows us to understand how different categories compare in terms of a numerical measure\n",
    "\n",
    "For instance, we want to know the average porject costs by permit type"
   ]
  },
  {
   "cell_type": "code",
   "execution_count": 29,
   "id": "896048d0",
   "metadata": {},
   "outputs": [
    {
     "name": "stdout",
     "output_type": "stream",
     "text": [
      "permittype\n",
      "Commercial / Multi Family Project    721878.471211\n",
      "Demolition                            25000.000000\n",
      "Residential Improvement Project       17725.255017\n",
      "Single Construction Permit            55043.283906\n",
      "Name: estprojectcost, dtype: float64\n"
     ]
    }
   ],
   "source": [
    "# average project costs by permit type\n",
    "group_mean = df.groupby('permittype')['estprojectcost'].mean()\n",
    "print(group_mean)"
   ]
  },
  {
   "cell_type": "markdown",
   "id": "2aa6a991",
   "metadata": {},
   "source": [
    "This would reveal if certain types of permits, like commerical versus residential, typically have higher porject costs..."
   ]
  },
  {
   "cell_type": "markdown",
   "id": "b081e968",
   "metadata": {},
   "source": [
    "2. Identifying Commmon Categories\n",
    "\n",
    "Using 'value_counts()' help identify the most frequently occuring categories within a dataset, which can highlight areas of high activity or interest"
   ]
  },
  {
   "cell_type": "code",
   "execution_count": 30,
   "id": "06458ce4",
   "metadata": {},
   "outputs": [
    {
     "name": "stdout",
     "output_type": "stream",
     "text": [
      "permittype\n",
      "Commercial / Multi Family Project    454\n",
      "Residential Improvement Project      299\n",
      "Demolition                           182\n",
      "Single Construction Permit            64\n",
      "Name: count, dtype: int64\n"
     ]
    }
   ],
   "source": [
    "# find out which types of development project are most common\n",
    "common_categories = df['permittype'].value_counts()\n",
    "print(common_categories)"
   ]
  },
  {
   "cell_type": "markdown",
   "id": "a8a0aeaf",
   "metadata": {},
   "source": [
    "This information might indicate market trends, like a rise in renovations versus new constructions"
   ]
  },
  {
   "cell_type": "markdown",
   "id": "d8b40e1f",
   "metadata": {},
   "source": [
    "3. Plotting Distribution of Numerical Data\n",
    "\n",
    "Visualizaing the distribution of numerical data can uncover the spread, central tendency, and outliers within a numerical field"
   ]
  },
  {
   "cell_type": "code",
   "execution_count": 34,
   "id": "527026c2",
   "metadata": {},
   "outputs": [
    {
     "data": {
      "text/plain": [
       "<Axes: >"
      ]
     },
     "execution_count": 34,
     "metadata": {},
     "output_type": "execute_result"
    },
    {
     "data": {
      "image/png": "[encoded data removed]",
      "text/plain": [
       "<Figure size 640x480 with 1 Axes>"
      ]
     },
     "metadata": {},
     "output_type": "display_data"
    }
   ],
   "source": [
    "# want to see the distribution of estimated project costs:\n",
    "df['estprojectcost'].hist(bins = 15)"
   ]
  },
  {
   "cell_type": "markdown",
   "id": "6ad92324",
   "metadata": {},
   "source": [
    "Histogram should show if there's a standard range for project costs, and how many projects fall outside that range"
   ]
  },
  {
   "cell_type": "markdown",
   "id": "e9bc1d1b",
   "metadata": {},
   "source": [
    "4. Correlation Analysis\n",
    "\n",
    "To understand the relationship between two numerical variables, might use a scatter plot or calculate the correlation coefficient"
   ]
  },
  {
   "cell_type": "markdown",
   "id": "4e5f3caa",
   "metadata": {},
   "source": [
    "**Data Visualization**\n",
    "\n",
    "Powerful tool to communicate insights and make sense of data. Particularly useful for identifying trends, anomalies, comparisons, and patterns in data. Can create different types of visualization in Python using matplotlib and seaborn\n",
    "\n",
    "Numerical data refers to data that is expressible in terms of numbers rather than natural language descriptions. This type of data can be measured and ordered in a way that is meaningful. Numerical data can be further classified into two subtypes:\n",
    "\n",
    "1. Discrete Data: This type involves countable values. Discrete data can only take certain values (like the number of students in a class).\n",
    "\n",
    "2. Continuous Data: This data type involves measurements and can take on any value within a range (like height, weight, temperature, etc.).\n",
    "\n",
    "Categorical data, on the other hand, represents characteristics that can be categorized into different groups or non-overlapping regions. These categories can be names or labels. Categorical data is qualitative and not inherently numerical, though it can be counted. Categorical data is also subdivided into two types:\n",
    "\n",
    "1. Nominal Data: This is data where the order of the categories is not important (like gender, race, or hair color).\n",
    "\n",
    "2. Ordinal Data: Here, the categories have a logical order, but the differences between the categories are not necessarily equal (like rankings, where you can say first place is higher than second, but you can't quantify by how much).\n",
    "\n",
    "When visualizing data, the type of data you have can influence the type of chart or plot you might use. For example, a bar chart might be used for categorical data to show the frequency of each category, while a scatter plot or line graph could be used for numerical data to show relationships or trends over a continuous range."
   ]
  },
  {
   "cell_type": "markdown",
   "id": "22aa3d44",
   "metadata": {},
   "source": [
    "1. Bar Plot\n",
    "\n",
    "Useful for comparing different groups or tracking changes over time. "
   ]
  },
  {
   "cell_type": "code",
   "execution_count": 41,
   "id": "8798107f",
   "metadata": {},
   "outputs": [
    {
     "data": {
      "text/plain": [
       "<function matplotlib.pyplot.show(close=None, block=None)>"
      ]
     },
     "execution_count": 41,
     "metadata": {},
     "output_type": "execute_result"
    },
    {
     "data": {
      "image/png": "[encoded data removed]",
      "text/plain": [
       "<Figure size 1000x600 with 1 Axes>"
      ]
     },
     "metadata": {},
     "output_type": "display_data"
    }
   ],
   "source": [
    "# example of a bar plot that might show average estimated project cost by permit type\n",
    "plt.figure(figsize = (10, 6)) # Set the figure size\n",
    "sns.barplot(x = 'permittype', y = 'estprojectcost', data = df)\n",
    "plt.xticks(rotation = 90) # Rotate x labels for better readability\n",
    "plt.xlabel('Permit Type') # Set x-axis label\n",
    "plt.ylabel('Average Estimated Project Cost') # Set y-axis label\n",
    "plt.title('Average Estimated Project Cost by Permit Type') # Set title\n",
    "plt.show"
   ]
  },
  {
   "cell_type": "markdown",
   "id": "f979877f",
   "metadata": {},
   "source": [
    "2. Scatter Plot\n",
    "\n",
    "Scatter plots are great for visualizating the relationship between two numerical variables."
   ]
  },
  {
   "cell_type": "code",
   "execution_count": 50,
   "id": "0c0de408",
   "metadata": {},
   "outputs": [
    {
     "data": {
      "image/png": "[encoded data removed]",
      "text/plain": [
       "<Figure size 800x600 with 1 Axes>"
      ]
     },
     "metadata": {},
     "output_type": "display_data"
    }
   ],
   "source": [
    "# not really any numerical variables, but this is the set up for scatter plot\n",
    "plt.figure(figsize=(8, 6)) # Set the figure size\n",
    "plt.scatter(df['estprojectcost'], df['housingunits'])\n",
    "plt.xlabel('Column 1') # Set x-axis label\n",
    "plt.ylabel('Column 2') # Set y-axis label\n",
    "plt.title('Scatter Plot for Column 1 vs Column 2') # Set title\n",
    "plt.show()"
   ]
  },
  {
   "cell_type": "markdown",
   "id": "8e8a02fa",
   "metadata": {},
   "source": [
    "3. Histogram\n",
    "\n",
    "Histogram help understand the distribution of numerical data"
   ]
  },
  {
   "cell_type": "code",
   "execution_count": 56,
   "id": "abd602c2",
   "metadata": {},
   "outputs": [
    {
     "data": {
      "image/png": "[encoded data removed]",
      "text/plain": [
       "<Figure size 2000x800 with 1 Axes>"
      ]
     },
     "metadata": {},
     "output_type": "display_data"
    }
   ],
   "source": [
    "plt.figure(figsize=(20, 8)) # Set the figure size\n",
    "sns.histplot(df['permitclassgroup'], kde=False, bins=20)\n",
    "plt.xlabel('Numerical Column') # Set x-axis label\n",
    "plt.ylabel('Frequency') # Set y-axis label\n",
    "plt.title('Distribution of Numerical Column') # Set title\n",
    "plt.show()"
   ]
  },
  {
   "cell_type": "markdown",
   "id": "91051590",
   "metadata": {},
   "source": [
    "4. Boxplot\n",
    "\n",
    "Used to show the distribution of quantitative data and to spot outliers"
   ]
  },
  {
   "cell_type": "code",
   "execution_count": null,
   "id": "b431ace6",
   "metadata": {},
   "outputs": [],
   "source": [
    "plt.figure(figsize=(10, 6)) # Set the figure size\n",
    "sns.boxplot(x='categorical_column', y='numerical_column', data=df)\n",
    "plt.xticks(rotation=45) # Rotate x labels for better readability\n",
    "plt.xlabel('Categorical Column') # Set x-axis label\n",
    "plt.ylabel('Numerical Column') # Set y-axis label\n",
    "plt.title('Box Plot of Numerical Column by Categorical Column') # Set title\n",
    "plt.show()"
   ]
  },
  {
   "cell_type": "markdown",
   "id": "b2b1c358",
   "metadata": {},
   "source": [
    "Minimum, 25th percentile (Q1), median (50th percentile_), 75th percentile (Q3), and the maximum, is a crucial set of descriptive statistics for understanding the disctibution of a numerical variable.\n",
    "\n",
    "Boxplots are visualization of these 5 numbers, There are two types of box plots. One type is box plot without outlier.\n",
    "\n",
    "For cateogrical variable, mode is important"
   ]
  },
  {
   "cell_type": "code",
   "execution_count": null,
   "id": "77ced946",
   "metadata": {},
   "outputs": [],
   "source": []
  }
 ],
 "metadata": {
  "kernelspec": {
   "display_name": "Python 3 (ipykernel)",
   "language": "python",
   "name": "python3"
  },
  "language_info": {
   "codemirror_mode": {
    "name": "ipython",
    "version": 3
   },
   "file_extension": ".py",
   "mimetype": "text/x-python",
   "name": "python",
   "nbconvert_exporter": "python",
   "pygments_lexer": "ipython3",
   "version": "3.11.6"
  }
 },
 "nbformat": 4,
 "nbformat_minor": 5
}
